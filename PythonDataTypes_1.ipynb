{
  "cells": [
    {
      "cell_type": "markdown",
      "metadata": {
        "id": "2SkoZRYL-R9U"
      },
      "source": [
        "# Python Data Types & Containers I\n",
        "\n",
        "A forewarning, what we learn in this notebook may seem mundane however data types and data it contains are the building blocks of our programs, developing a good understand of them will help to create solid foundations for you. The learning objectives are:\n",
        "\n",
        "* Understand what the basic data types are\n",
        "  * Booleans - either true or false\n",
        "  * Strings - a sequence of characters\n",
        "  * Numbers - numbers can be broken down into two types\n",
        "    * Integer\n",
        "    * Floats\n",
        "* Why can't we add strings and numbers together?\n",
        "* Introduction to basic data containers\n",
        "  * Variables - used to contain any sort of value.\n",
        "* Simple Input and Output"
      ]
    },
    {
      "cell_type": "markdown",
      "metadata": {
        "id": "qRuxn4jY-R9X"
      },
      "source": [
        "# Data Types"
      ]
    },
    {
      "cell_type": "markdown",
      "metadata": {
        "id": "H1wjDTYy-R9Z"
      },
      "source": [
        "## Booleans\n",
        "\n",
        "Booleans are very simple, they can either be true of false. In python booleans start with a capital, you'll know you've typed it right due to the green syntax highighting. We'll cover booleans use cases later when we cover logic and conditionals.\n"
      ]
    },
    {
      "cell_type": "code",
      "execution_count": 1,
      "metadata": {
        "colab": {
          "base_uri": "https://localhost:8080/",
          "height": 51
        },
        "id": "L9vTaw3Q-R9a",
        "outputId": "14e86bf1-627b-4f57-bf21-3ca46c894045"
      },
      "outputs": [
        {
          "name": "stdout",
          "output_type": "stream",
          "text": [
            "3\n",
            "True\n",
            "True\n"
          ]
        }
      ],
      "source": [
        "print(True+True+True)\n",
        "print(True)\n",
        "print(\"True\")"
      ]
    },
    {
      "cell_type": "code",
      "execution_count": 2,
      "metadata": {},
      "outputs": [
        {
          "name": "stdout",
          "output_type": "stream",
          "text": [
            "<class 'bool'>\n",
            "<class 'str'>\n"
          ]
        }
      ],
      "source": [
        "print(type(True))\n",
        "print(type('True'))"
      ]
    },
    {
      "cell_type": "code",
      "execution_count": 3,
      "metadata": {
        "colab": {
          "base_uri": "https://localhost:8080/",
          "height": 34
        },
        "id": "wVQGHAB0jwO0",
        "outputId": "c9d8f638-313f-4fb7-a2ea-eebb5316e11d"
      },
      "outputs": [
        {
          "data": {
            "text/plain": [
              "102"
            ]
          },
          "execution_count": 3,
          "metadata": {},
          "output_type": "execute_result"
        }
      ],
      "source": [
        "# string to integer\n",
        "int('2') + int('100')"
      ]
    },
    {
      "cell_type": "code",
      "execution_count": 4,
      "metadata": {
        "id": "JSOP_V43mCdR",
        "outputId": "b3caccb6-9c2a-4941-b308-4e7bc632ff99"
      },
      "outputs": [
        {
          "name": "stdout",
          "output_type": "stream",
          "text": [
            "0\n",
            "<class 'int'>\n"
          ]
        }
      ],
      "source": [
        "print(0)\n",
        "print(type(0))"
      ]
    },
    {
      "cell_type": "code",
      "execution_count": 5,
      "metadata": {
        "colab": {
          "base_uri": "https://localhost:8080/",
          "height": 37
        },
        "id": "1J-zmoX2lVh1",
        "outputId": "17f48017-a051-4910-cf6e-df354b31fee8"
      },
      "outputs": [
        {
          "data": {
            "text/plain": [
              "'str'"
            ]
          },
          "execution_count": 5,
          "metadata": {},
          "output_type": "execute_result"
        }
      ],
      "source": [
        "'str'"
      ]
    },
    {
      "cell_type": "code",
      "execution_count": 6,
      "metadata": {
        "colab": {
          "base_uri": "https://localhost:8080/",
          "height": 34
        },
        "id": "AEv_c2imh2av",
        "outputId": "b54d66c8-3344-400e-a8c1-381fd0e4aa11"
      },
      "outputs": [
        {
          "name": "stdout",
          "output_type": "stream",
          "text": [
            "Hello World!\n"
          ]
        }
      ],
      "source": [
        "print('Hello World!')"
      ]
    },
    {
      "cell_type": "code",
      "execution_count": 24,
      "metadata": {
        "colab": {
          "base_uri": "https://localhost:8080/",
          "height": 34
        },
        "id": "bbAgaEmF8lOQ",
        "outputId": "ddfeeec0-f370-4d1b-cc49-ae62fec9a2c6"
      },
      "outputs": [
        {
          "data": {
            "text/plain": [
              "(2, 0)"
            ]
          },
          "execution_count": 24,
          "metadata": {},
          "output_type": "execute_result"
        }
      ],
      "source": [
        "True+True, False+False"
      ]
    },
    {
      "cell_type": "markdown",
      "metadata": {
        "id": "1g_cj3m18mVv"
      },
      "source": [
        "Question 1:"
      ]
    },
    {
      "cell_type": "code",
      "execution_count": 7,
      "metadata": {
        "colab": {
          "base_uri": "https://localhost:8080/",
          "height": 34
        },
        "id": "1KWKhmct-R9g",
        "outputId": "7614ad2b-79b1-4b40-87ad-97e5dadbbfcb"
      },
      "outputs": [
        {
          "data": {
            "text/plain": [
              "0"
            ]
          },
          "execution_count": 7,
          "metadata": {},
          "output_type": "execute_result"
        }
      ],
      "source": [
        "False+False"
      ]
    },
    {
      "cell_type": "markdown",
      "metadata": {
        "id": "8OTb6KrW-R9k"
      },
      "source": [
        "## Strings\n",
        "\n",
        "Strings are a sequence of characters. A string can contain letters, numbers or symbols surrounded by two quotes."
      ]
    },
    {
      "cell_type": "code",
      "execution_count": 10,
      "metadata": {
        "colab": {
          "base_uri": "https://localhost:8080/",
          "height": 34
        },
        "id": "1Kr1K0aC-R9n",
        "outputId": "06df924f-a3f2-4ecf-eb62-8c53fb1fdb09"
      },
      "outputs": [],
      "source": [
        "# 'hello', '23', 'Good morning', 100+100, \"100\" + \"100\"\n",
        "\n",
        "\n",
        "# 'hello', \" hello\", "
      ]
    },
    {
      "cell_type": "code",
      "execution_count": 8,
      "metadata": {
        "id": "LUFKhinr-R9s",
        "outputId": "b78e7f33-0fe9-4167-d6f4-343f7b714a17"
      },
      "outputs": [
        {
          "data": {
            "text/plain": [
              "'#$.%'"
            ]
          },
          "execution_count": 8,
          "metadata": {},
          "output_type": "execute_result"
        }
      ],
      "source": [
        "'#$.%'"
      ]
    },
    {
      "cell_type": "markdown",
      "metadata": {
        "id": "WqES6IJV-R9u"
      },
      "source": [
        "In python we can use either `''` and `\"\"` to create strings"
      ]
    },
    {
      "cell_type": "code",
      "execution_count": 9,
      "metadata": {
        "id": "ZNolZtr4-R9v",
        "outputId": "11566370-5bb2-44ba-8980-1babcb444711"
      },
      "outputs": [
        {
          "data": {
            "text/plain": [
              "'hey'"
            ]
          },
          "execution_count": 9,
          "metadata": {},
          "output_type": "execute_result"
        }
      ],
      "source": [
        "'hey'"
      ]
    },
    {
      "cell_type": "code",
      "execution_count": 10,
      "metadata": {
        "id": "P20okhfi-R9y",
        "outputId": "532b95eb-b3e9-4080-e726-c06dd945aee0"
      },
      "outputs": [
        {
          "data": {
            "text/plain": [
              "'hey'"
            ]
          },
          "execution_count": 10,
          "metadata": {},
          "output_type": "execute_result"
        }
      ],
      "source": [
        "\"hey\""
      ]
    },
    {
      "cell_type": "code",
      "execution_count": 11,
      "metadata": {
        "id": "laGS3vnI-R91",
        "outputId": "a9fb39ac-768a-43c7-dc95-1dfb5a6200ad"
      },
      "outputs": [
        {
          "data": {
            "text/plain": [
              "' hello, john says\"iwsf\"\\ns\\ndff\\n'"
            ]
          },
          "execution_count": 11,
          "metadata": {},
          "output_type": "execute_result"
        }
      ],
      "source": [
        "' hello '\n",
        "\n",
        "\" hello's \"\n",
        "\n",
        "''' hello, john says\"iwsf\"\n",
        "s\n",
        "dff\n",
        "'''"
      ]
    },
    {
      "cell_type": "markdown",
      "metadata": {
        "id": "3ITeEk8O-R93"
      },
      "source": [
        "If we have a word with an apostrophe in we can use `\"\"` to surround it"
      ]
    },
    {
      "cell_type": "code",
      "execution_count": 26,
      "metadata": {
        "id": "2vz82aJA-R94",
        "outputId": "9b0720de-dd18-4159-dd7a-b6f064e27b41"
      },
      "outputs": [
        {
          "data": {
            "text/plain": [
              "\"it's raining out side\""
            ]
          },
          "execution_count": 26,
          "metadata": {},
          "output_type": "execute_result"
        }
      ],
      "source": [
        "\"it's raining out side\""
      ]
    },
    {
      "cell_type": "markdown",
      "metadata": {
        "id": "SvmIVarl-R97"
      },
      "source": [
        "For strings multiline strings we use three quotes"
      ]
    },
    {
      "cell_type": "code",
      "execution_count": 12,
      "metadata": {
        "colab": {
          "base_uri": "https://localhost:8080/",
          "height": 130
        },
        "id": "lBE9NDBC-R97",
        "outputId": "17534ce4-b23d-4604-a409-7cf253e9b816"
      },
      "outputs": [
        {
          "name": "stdout",
          "output_type": "stream",
          "text": [
            "this is a\n",
            "multiline\n",
            "string\n"
          ]
        }
      ],
      "source": [
        "print('''this is a\n",
        "multiline\n",
        "string''')"
      ]
    },
    {
      "cell_type": "code",
      "execution_count": 23,
      "metadata": {
        "colab": {
          "base_uri": "https://localhost:8080/",
          "height": 51
        },
        "id": "EqZntuMF-J6h",
        "outputId": "1ce4403a-7c29-4b64-e17f-789f71a3c315"
      },
      "outputs": [
        {
          "name": "stdout",
          "output_type": "stream",
          "text": [
            "\\Hi\n"
          ]
        }
      ],
      "source": [
        "print('\\\\Hi') # \\ - is an escape character"
      ]
    },
    {
      "cell_type": "markdown",
      "metadata": {
        "id": "gqaLYVxu-R9-"
      },
      "source": [
        "The `\\n` is a special character that stands for newline"
      ]
    },
    {
      "cell_type": "markdown",
      "metadata": {
        "id": "pRm3XEVa-R9-"
      },
      "source": [
        "### Exercise\n",
        "\n",
        "Type a sample string."
      ]
    },
    {
      "cell_type": "code",
      "execution_count": null,
      "metadata": {
        "id": "rt2pGDVR-R9_"
      },
      "outputs": [
        {
          "name": "stdout",
          "output_type": "stream",
          "text": [
            "hi\thello\n"
          ]
        }
      ],
      "source": []
    },
    {
      "cell_type": "markdown",
      "metadata": {
        "id": "2EY_O_uC-R-C"
      },
      "source": [
        "## Numbers\n",
        "\n",
        "Python has two different data type for numbers:\n",
        "\n",
        "* Integers\n",
        "* Floats\n",
        "\n",
        "Integer can only represent whole numbers, whereas floats can be used to represent decimal point numbers"
      ]
    },
    {
      "cell_type": "code",
      "execution_count": 28,
      "metadata": {
        "id": "Z3sYAXnZ-R-D",
        "outputId": "4e363f44-befe-4809-c895-56cfcfd87aa8"
      },
      "outputs": [
        {
          "data": {
            "text/plain": [
              "1"
            ]
          },
          "execution_count": 28,
          "metadata": {},
          "output_type": "execute_result"
        }
      ],
      "source": [
        "1 # integer"
      ]
    },
    {
      "cell_type": "code",
      "execution_count": 29,
      "metadata": {
        "id": "IZuVkaYO-R-F",
        "outputId": "11c37cb0-209e-4d9a-ef18-525e5a305e85"
      },
      "outputs": [
        {
          "data": {
            "text/plain": [
              "1.0"
            ]
          },
          "execution_count": 29,
          "metadata": {},
          "output_type": "execute_result"
        }
      ],
      "source": [
        "1.0 # float"
      ]
    },
    {
      "cell_type": "code",
      "execution_count": 32,
      "metadata": {
        "colab": {
          "base_uri": "https://localhost:8080/",
          "height": 85
        },
        "id": "JfZF1YDX6KxU",
        "outputId": "17ae6a84-dee4-44f9-ed51-4b329a08a118"
      },
      "outputs": [
        {
          "name": "stdout",
          "output_type": "stream",
          "text": [
            "2\n",
            "0\n",
            "2\n",
            "1\n"
          ]
        }
      ],
      "source": [
        "print(1+1)\n",
        "print(1-1)\n",
        "print(1*2)\n",
        "print(int(2/2))"
      ]
    },
    {
      "cell_type": "markdown",
      "metadata": {
        "id": "GhQ7bOlN-R-I"
      },
      "source": [
        "Look at the output above, the integer doesn't have a decimal point (`.`) whereas the float does."
      ]
    },
    {
      "cell_type": "code",
      "execution_count": 33,
      "metadata": {
        "id": "gU40T0Dj-R-K",
        "outputId": "8eca539b-eb3b-4ac1-f062-4fb70f6b78f4"
      },
      "outputs": [
        {
          "data": {
            "text/plain": [
              "2.5"
            ]
          },
          "execution_count": 33,
          "metadata": {},
          "output_type": "execute_result"
        }
      ],
      "source": [
        "2.5 # float"
      ]
    },
    {
      "cell_type": "markdown",
      "metadata": {
        "id": "4VzSyf8F-R-N"
      },
      "source": [
        "Notice the lack of quotation marks (`''`) surrounding the output bellow, this indicates that the number is of a number type."
      ]
    },
    {
      "cell_type": "code",
      "execution_count": 34,
      "metadata": {
        "id": "W_5LJBQM-R-O",
        "outputId": "5cc3819f-a4c7-4623-c369-ac2b4985a91b"
      },
      "outputs": [
        {
          "name": "stdout",
          "output_type": "stream",
          "text": [
            "20\n",
            "10\n"
          ]
        }
      ],
      "source": [
        "print(20)\n",
        "print(10)"
      ]
    },
    {
      "cell_type": "markdown",
      "metadata": {
        "id": "NwU5ceyI-R-U"
      },
      "source": [
        "If we check if a string and a number are equal to each other, python will tell us no, since they are of different data types. `==` means is equal to."
      ]
    },
    {
      "cell_type": "code",
      "execution_count": 37,
      "metadata": {
        "colab": {
          "base_uri": "https://localhost:8080/",
          "height": 34
        },
        "id": "yD38KrZQ-R-V",
        "outputId": "48a5dc9e-98e9-4e4f-a126-2090bcf8869d"
      },
      "outputs": [
        {
          "data": {
            "text/plain": [
              "False"
            ]
          },
          "execution_count": 37,
          "metadata": {},
          "output_type": "execute_result"
        }
      ],
      "source": [
        "'5' == 5"
      ]
    },
    {
      "cell_type": "markdown",
      "metadata": {
        "id": "cvPGXFxC-R-a"
      },
      "source": [
        "The output returns a boolean `False`, we will cover booleans later on. We can do simple math with number types.\n",
        "\n",
        "* Addition: `+`\n",
        "* Subtraction: `-`\n",
        "* Multiplication: `*`\n",
        "* Power: `**`\n",
        "* Divsion: `/`\n",
        "* Floor division  (rounds down): `//`\n",
        "* Modulus (or remainder): `%`"
      ]
    },
    {
      "cell_type": "code",
      "execution_count": 38,
      "metadata": {
        "id": "PcfmfQ6E-R-c",
        "outputId": "a0676d10-f4a0-4a68-9b3c-71c9adf07bc1"
      },
      "outputs": [
        {
          "data": {
            "text/plain": [
              "5"
            ]
          },
          "execution_count": 38,
          "metadata": {},
          "output_type": "execute_result"
        }
      ],
      "source": [
        "3 + 2"
      ]
    },
    {
      "cell_type": "code",
      "execution_count": 39,
      "metadata": {
        "id": "NPrj7IT_-R-j",
        "outputId": "e88c2478-828e-430a-ea4e-db3e8eaa7f11"
      },
      "outputs": [
        {
          "data": {
            "text/plain": [
              "-1"
            ]
          },
          "execution_count": 39,
          "metadata": {},
          "output_type": "execute_result"
        }
      ],
      "source": [
        "5 - 6"
      ]
    },
    {
      "cell_type": "code",
      "execution_count": 40,
      "metadata": {
        "id": "b5NwCG-G-R-m",
        "outputId": "0b5ec981-a53d-4671-be6e-468a31dcf278"
      },
      "outputs": [
        {
          "data": {
            "text/plain": [
              "12"
            ]
          },
          "execution_count": 40,
          "metadata": {},
          "output_type": "execute_result"
        }
      ],
      "source": [
        "4 * 3"
      ]
    },
    {
      "cell_type": "code",
      "execution_count": 41,
      "metadata": {
        "colab": {
          "base_uri": "https://localhost:8080/",
          "height": 34
        },
        "id": "_6VMMYpN-R-o",
        "outputId": "7eb69601-3a27-4a38-d6fd-91e845c96c6b"
      },
      "outputs": [
        {
          "data": {
            "text/plain": [
              "3.0"
            ]
          },
          "execution_count": 41,
          "metadata": {},
          "output_type": "execute_result"
        }
      ],
      "source": [
        "9.0 ** (1/2)  # (4*4)"
      ]
    },
    {
      "cell_type": "code",
      "execution_count": 42,
      "metadata": {
        "colab": {
          "base_uri": "https://localhost:8080/",
          "height": 34
        },
        "id": "sF57dj6wBylj",
        "outputId": "7f195c92-99f3-4469-819a-b758a5fe1caa"
      },
      "outputs": [
        {
          "data": {
            "text/plain": [
              "2.0"
            ]
          },
          "execution_count": 42,
          "metadata": {},
          "output_type": "execute_result"
        }
      ],
      "source": [
        "8 ** (1/3)"
      ]
    },
    {
      "cell_type": "code",
      "execution_count": 43,
      "metadata": {
        "colab": {
          "base_uri": "https://localhost:8080/",
          "height": 34
        },
        "id": "84SpMqPr-R-q",
        "outputId": "3034ee19-0ccb-45fe-969a-57962dddaec8"
      },
      "outputs": [
        {
          "name": "stdout",
          "output_type": "stream",
          "text": [
            "2.5\n"
          ]
        }
      ],
      "source": [
        "print(5/2)  # print(10/2)"
      ]
    },
    {
      "cell_type": "code",
      "execution_count": 44,
      "metadata": {
        "colab": {
          "base_uri": "https://localhost:8080/",
          "height": 34
        },
        "id": "_hdv1VWC-R-s",
        "outputId": "426014c5-adfc-4978-f620-7e3f482ef650"
      },
      "outputs": [
        {
          "data": {
            "text/plain": [
              "1"
            ]
          },
          "execution_count": 44,
          "metadata": {},
          "output_type": "execute_result"
        }
      ],
      "source": [
        "3 // 2 # rounds down returning a int"
      ]
    },
    {
      "cell_type": "code",
      "execution_count": 45,
      "metadata": {},
      "outputs": [
        {
          "data": {
            "text/plain": [
              "1"
            ]
          },
          "execution_count": 45,
          "metadata": {},
          "output_type": "execute_result"
        }
      ],
      "source": [
        "100%9"
      ]
    },
    {
      "cell_type": "code",
      "execution_count": 46,
      "metadata": {
        "colab": {
          "base_uri": "https://localhost:8080/",
          "height": 34
        },
        "id": "hGqSDdHc-R-u",
        "outputId": "f87b3160-b608-4c80-8e54-8c390b93e43a"
      },
      "outputs": [
        {
          "data": {
            "text/plain": [
              "(0, 1, 1, 0, 1)"
            ]
          },
          "execution_count": 46,
          "metadata": {},
          "output_type": "execute_result"
        }
      ],
      "source": [
        "100%9 # remainder is 1\n",
        "\n",
        "2%2, 3%2, 5%2, 100%2, 999%2\n"
      ]
    },
    {
      "cell_type": "markdown",
      "metadata": {
        "id": "oG_IiUE1-R-x"
      },
      "source": [
        "One thing to note though computers aren't like humans they have percision error when they do maths, however this normally isn't a problem as the error is so small."
      ]
    },
    {
      "cell_type": "code",
      "execution_count": 48,
      "metadata": {
        "colab": {
          "base_uri": "https://localhost:8080/",
          "height": 34
        },
        "id": "vn6WdxIA-R-0",
        "outputId": "edf7aa7d-d0bf-4434-bc21-1e50ce49b700"
      },
      "outputs": [
        {
          "data": {
            "text/plain": [
              "0.30000000000000004"
            ]
          },
          "execution_count": 48,
          "metadata": {},
          "output_type": "execute_result"
        }
      ],
      "source": [
        "0.1 + 0.2 #notice the 4 at the end"
      ]
    },
    {
      "cell_type": "code",
      "execution_count": 35,
      "metadata": {},
      "outputs": [
        {
          "data": {
            "text/plain": [
              "0.9"
            ]
          },
          "execution_count": 35,
          "metadata": {},
          "output_type": "execute_result"
        }
      ],
      "source": [
        "round(0.3+0.3+0.3,1)"
      ]
    },
    {
      "cell_type": "markdown",
      "metadata": {
        "id": "zbA98IYP-R-2"
      },
      "source": [
        "### Exercise\n",
        "\n",
        "Calculate the modulo 15 of the result of the expression: $(156\\times12)^4$"
      ]
    },
    {
      "cell_type": "code",
      "execution_count": 50,
      "metadata": {
        "colab": {
          "base_uri": "https://localhost:8080/",
          "height": 34
        },
        "id": "y_ex8Bte-R-3",
        "outputId": "f702a364-fc55-41dc-a16d-b0d9b0ed09ba"
      },
      "outputs": [
        {
          "data": {
            "text/plain": [
              "6"
            ]
          },
          "execution_count": 50,
          "metadata": {},
          "output_type": "execute_result"
        }
      ],
      "source": []
    },
    {
      "cell_type": "markdown",
      "metadata": {
        "id": "kwHOmZYD-R-6"
      },
      "source": [
        "## String and number interactions"
      ]
    },
    {
      "cell_type": "markdown",
      "metadata": {
        "id": "1OhzA3Hh-R-_"
      },
      "source": [
        "What happens if we try to add two strings together?"
      ]
    },
    {
      "cell_type": "code",
      "execution_count": 51,
      "metadata": {
        "colab": {
          "base_uri": "https://localhost:8080/",
          "height": 37
        },
        "id": "ZY4a66Ef-R-_",
        "outputId": "6b5025b8-7f1a-4358-c375-40ebefe3c3b7"
      },
      "outputs": [
        {
          "data": {
            "text/plain": [
              "'a string another string'"
            ]
          },
          "execution_count": 51,
          "metadata": {},
          "output_type": "execute_result"
        }
      ],
      "source": [
        "'a string' + ' ' + 'another string'"
      ]
    },
    {
      "cell_type": "markdown",
      "metadata": {
        "id": "kUKsLWiU-R_E"
      },
      "source": [
        "You can see that python has **concatenated** the two strings together. How about if we try to add a string to a number?"
      ]
    },
    {
      "cell_type": "code",
      "execution_count": 52,
      "metadata": {
        "colab": {
          "base_uri": "https://localhost:8080/",
          "height": 164
        },
        "id": "6JVRSyf7-R_I",
        "outputId": "f5c419b4-656e-48c5-cbed-3b863cb75f1a"
      },
      "outputs": [
        {
          "ename": "TypeError",
          "evalue": "can only concatenate str (not \"int\") to str",
          "output_type": "error",
          "traceback": [
            "\u001b[0;31m---------------------------------------------------------------------------\u001b[0m",
            "\u001b[0;31mTypeError\u001b[0m                                 Traceback (most recent call last)",
            "Input \u001b[0;32mIn [52]\u001b[0m, in \u001b[0;36m<cell line: 1>\u001b[0;34m()\u001b[0m\n\u001b[0;32m----> 1\u001b[0m \u001b[38;5;124;43m'\u001b[39;49m\u001b[38;5;124;43m5\u001b[39;49m\u001b[38;5;124;43m'\u001b[39;49m\u001b[43m \u001b[49m\u001b[38;5;241;43m+\u001b[39;49m\u001b[43m \u001b[49m\u001b[38;5;241;43m10\u001b[39;49m\n",
            "\u001b[0;31mTypeError\u001b[0m: can only concatenate str (not \"int\") to str"
          ]
        }
      ],
      "source": [
        "'5' + 10 # will error"
      ]
    },
    {
      "cell_type": "code",
      "execution_count": 53,
      "metadata": {
        "id": "Jt9afnT46KyV"
      },
      "outputs": [
        {
          "data": {
            "text/plain": [
              "15"
            ]
          },
          "execution_count": 53,
          "metadata": {},
          "output_type": "execute_result"
        }
      ],
      "source": [
        "int('5') + 10"
      ]
    },
    {
      "cell_type": "markdown",
      "metadata": {
        "id": "mccg0JDi-R_M"
      },
      "source": [
        "This will result in an error because we can't combine two different data types together. We can always check what type something is using the `type` function."
      ]
    },
    {
      "cell_type": "code",
      "execution_count": 54,
      "metadata": {
        "colab": {
          "base_uri": "https://localhost:8080/",
          "height": 34
        },
        "id": "1bk-t99T-R_N",
        "outputId": "b4897184-c3e2-44f5-f1c6-4a182705e382"
      },
      "outputs": [
        {
          "data": {
            "text/plain": [
              "str"
            ]
          },
          "execution_count": 54,
          "metadata": {},
          "output_type": "execute_result"
        }
      ],
      "source": [
        "type('5')"
      ]
    },
    {
      "cell_type": "code",
      "execution_count": 55,
      "metadata": {
        "colab": {
          "base_uri": "https://localhost:8080/",
          "height": 34
        },
        "id": "1ZV88xXM-R_T",
        "outputId": "2e9faf81-852e-48de-864b-4e95315e0bdb"
      },
      "outputs": [
        {
          "data": {
            "text/plain": [
              "int"
            ]
          },
          "execution_count": 55,
          "metadata": {},
          "output_type": "execute_result"
        }
      ],
      "source": [
        "type(5)"
      ]
    },
    {
      "cell_type": "markdown",
      "metadata": {
        "id": "zjXc9VaI-R_W"
      },
      "source": [
        "In summary, booleans are simple, either True of False. We can use string to store a collection of characters. Single line strings can be created using either double or single quotation marks. Multiline strings can be created using triple quotation marks. We can use number types to perform basic arithmetic. We can't add a number and a string together because they are not of the same data type."
      ]
    },
    {
      "cell_type": "markdown",
      "metadata": {
        "id": "O8AC2Ppg-R_X"
      },
      "source": [
        "## Intro to Data Containers: Variables\n",
        "\n",
        "Variables are a way to store a bit of information or a value.  In python the standard way to name variables is all lower case, with underscores seperating the words, for example `my_variable_name`.\n"
      ]
    },
    {
      "cell_type": "markdown",
      "metadata": {
        "id": "JfNGSnx8-R_X"
      },
      "source": [
        "### Normal Assignment"
      ]
    },
    {
      "cell_type": "code",
      "execution_count": 57,
      "metadata": {
        "colab": {
          "base_uri": "https://localhost:8080/",
          "height": 51
        },
        "id": "3b3yyztz-R_X",
        "outputId": "a954645d-3fed-485c-cae7-60e78a1dccfa"
      },
      "outputs": [],
      "source": [
        "s = 'a string '"
      ]
    },
    {
      "cell_type": "markdown",
      "metadata": {
        "id": "F2QJe_5N-R_Z"
      },
      "source": [
        "In the case above the variable is `s` and it is used to store the value of the string `a string`. Below we can retrieve the value stored in the variable"
      ]
    },
    {
      "cell_type": "code",
      "execution_count": 58,
      "metadata": {
        "colab": {
          "base_uri": "https://localhost:8080/",
          "height": 51
        },
        "id": "1AaSyVp1-R_a",
        "outputId": "2d72c49b-240a-403f-b820-5c5bb35afd3e"
      },
      "outputs": [
        {
          "name": "stdout",
          "output_type": "stream",
          "text": [
            "a string \n"
          ]
        }
      ],
      "source": [
        "print(s)"
      ]
    },
    {
      "cell_type": "code",
      "execution_count": 61,
      "metadata": {
        "colab": {
          "base_uri": "https://localhost:8080/",
          "height": 34
        },
        "id": "l8v0PftPFMht",
        "outputId": "fc8f79f8-eda0-4de2-8ff1-246c3990db86"
      },
      "outputs": [
        {
          "data": {
            "text/plain": [
              "'a string another string'"
            ]
          },
          "execution_count": 61,
          "metadata": {},
          "output_type": "execute_result"
        }
      ],
      "source": [
        "s1 = 'another string'\n",
        "s + s1"
      ]
    },
    {
      "cell_type": "code",
      "execution_count": 62,
      "metadata": {},
      "outputs": [
        {
          "name": "stdout",
          "output_type": "stream",
          "text": [
            "2\n"
          ]
        }
      ],
      "source": [
        "s=True\n",
        "s1=True\n",
        "print(s+s1)"
      ]
    },
    {
      "cell_type": "markdown",
      "metadata": {
        "id": "i8lMekiy-R_b"
      },
      "source": [
        "We can change the value of a variable after we have created it. In a more formal tone you may say I have assigned a new value to the variable `s`."
      ]
    },
    {
      "cell_type": "code",
      "execution_count": 63,
      "metadata": {
        "id": "eQ_KY6nD-R_c"
      },
      "outputs": [],
      "source": [
        "s = 'a new string'"
      ]
    },
    {
      "cell_type": "code",
      "execution_count": 64,
      "metadata": {
        "id": "QH83xl00-R_d",
        "outputId": "3318380b-a306-4836-9c48-6b69b2d91a06"
      },
      "outputs": [
        {
          "data": {
            "text/plain": [
              "'a new string'"
            ]
          },
          "execution_count": 64,
          "metadata": {},
          "output_type": "execute_result"
        }
      ],
      "source": [
        "s"
      ]
    },
    {
      "cell_type": "markdown",
      "metadata": {
        "id": "OX6EVc9q-R_f"
      },
      "source": [
        " ### Multiple assignment"
      ]
    },
    {
      "cell_type": "code",
      "execution_count": 66,
      "metadata": {
        "id": "BSwrGTmr-R_f"
      },
      "outputs": [],
      "source": [
        "x, y, z = 1, 3.1415, 'a'"
      ]
    },
    {
      "cell_type": "code",
      "execution_count": 67,
      "metadata": {
        "id": "I2OLjb5p-R_h",
        "outputId": "c3b405a6-428f-4657-99de-08505f91b916"
      },
      "outputs": [
        {
          "data": {
            "text/plain": [
              "1"
            ]
          },
          "execution_count": 67,
          "metadata": {},
          "output_type": "execute_result"
        }
      ],
      "source": [
        "x"
      ]
    },
    {
      "cell_type": "code",
      "execution_count": 68,
      "metadata": {
        "id": "-Pre-tuT-R_j",
        "outputId": "2fd06bed-6fee-4a90-b8c7-5a4ff438e1b2"
      },
      "outputs": [
        {
          "data": {
            "text/plain": [
              "3.1415"
            ]
          },
          "execution_count": 68,
          "metadata": {},
          "output_type": "execute_result"
        }
      ],
      "source": [
        "y"
      ]
    },
    {
      "cell_type": "code",
      "execution_count": 69,
      "metadata": {
        "id": "L8PtLd7I-R_r",
        "outputId": "43b3acc1-4051-4258-aaa1-c26d2c9cd3e1"
      },
      "outputs": [
        {
          "data": {
            "text/plain": [
              "'a'"
            ]
          },
          "execution_count": 69,
          "metadata": {},
          "output_type": "execute_result"
        }
      ],
      "source": [
        "z"
      ]
    },
    {
      "cell_type": "code",
      "execution_count": 70,
      "metadata": {
        "colab": {
          "base_uri": "https://localhost:8080/",
          "height": 34
        },
        "id": "bJQow_PEGBEN",
        "outputId": "12b4c1a9-5b70-405f-c5fd-77712cb6555b"
      },
      "outputs": [
        {
          "name": "stdout",
          "output_type": "stream",
          "text": [
            "4.1415\n"
          ]
        }
      ],
      "source": [
        "print(round(x+y,4))"
      ]
    },
    {
      "cell_type": "markdown",
      "metadata": {
        "id": "SynRrUyK-R_w"
      },
      "source": [
        "### Chained assigment"
      ]
    },
    {
      "cell_type": "code",
      "execution_count": 71,
      "metadata": {
        "id": "uH0EAEW1-R_x",
        "outputId": "a35f3cd9-ea0a-46f4-ad8e-ceea069ee2dd"
      },
      "outputs": [
        {
          "name": "stdout",
          "output_type": "stream",
          "text": [
            "1 1 1\n"
          ]
        }
      ],
      "source": [
        "a = b = c = 1\n",
        "print (a,b,c)"
      ]
    },
    {
      "cell_type": "code",
      "execution_count": 72,
      "metadata": {
        "colab": {
          "base_uri": "https://localhost:8080/",
          "height": 34
        },
        "id": "gSLdUFeE-R_z",
        "outputId": "baa65290-3ba2-48b4-d9e5-20f0fbc85fb7"
      },
      "outputs": [
        {
          "data": {
            "text/plain": [
              "2"
            ]
          },
          "execution_count": 72,
          "metadata": {},
          "output_type": "execute_result"
        }
      ],
      "source": [
        "a = 2\n",
        "b = 3\n",
        "\n",
        "b = a\n",
        "b"
      ]
    },
    {
      "cell_type": "code",
      "execution_count": 73,
      "metadata": {
        "id": "qgkvdz7T-R_1",
        "outputId": "e47d0e50-c2a7-4e89-83c2-7e1cf1d802d3"
      },
      "outputs": [
        {
          "data": {
            "text/plain": [
              "2"
            ]
          },
          "execution_count": 73,
          "metadata": {},
          "output_type": "execute_result"
        }
      ],
      "source": [
        "b"
      ]
    },
    {
      "cell_type": "code",
      "execution_count": 74,
      "metadata": {},
      "outputs": [
        {
          "data": {
            "text/plain": [
              "2"
            ]
          },
          "execution_count": 74,
          "metadata": {},
          "output_type": "execute_result"
        }
      ],
      "source": [
        "a"
      ]
    },
    {
      "cell_type": "code",
      "execution_count": 75,
      "metadata": {
        "id": "Q66p8Uv2-R_3",
        "outputId": "39b62681-c6a2-462f-fde1-9a9181451ce9"
      },
      "outputs": [
        {
          "data": {
            "text/plain": [
              "1"
            ]
          },
          "execution_count": 75,
          "metadata": {},
          "output_type": "execute_result"
        }
      ],
      "source": [
        "c"
      ]
    },
    {
      "cell_type": "markdown",
      "metadata": {
        "id": "syhPwtES-R_7"
      },
      "source": [
        "### Augmented assignment"
      ]
    },
    {
      "cell_type": "code",
      "execution_count": 76,
      "metadata": {
        "colab": {
          "base_uri": "https://localhost:8080/",
          "height": 34
        },
        "id": "ECFRnMRg-R_8",
        "outputId": "c97dc13f-407e-4d70-c2c2-087915df8cf0"
      },
      "outputs": [
        {
          "data": {
            "text/plain": [
              "10"
            ]
          },
          "execution_count": 76,
          "metadata": {},
          "output_type": "execute_result"
        }
      ],
      "source": [
        "age = 10\n",
        "\n",
        "age"
      ]
    },
    {
      "cell_type": "code",
      "execution_count": 83,
      "metadata": {
        "colab": {
          "base_uri": "https://localhost:8080/",
          "height": 34
        },
        "id": "FnvO_Xz0GuI3",
        "outputId": "dc865a41-8b77-4eab-edca-504e6f555388"
      },
      "outputs": [
        {
          "data": {
            "text/plain": [
              "45"
            ]
          },
          "execution_count": 83,
          "metadata": {},
          "output_type": "execute_result"
        }
      ],
      "source": [
        "# age += 5\n",
        "age = age + 5\n",
        "age"
      ]
    },
    {
      "cell_type": "code",
      "execution_count": 101,
      "metadata": {
        "colab": {
          "base_uri": "https://localhost:8080/",
          "height": 37
        },
        "id": "mPBIjfOcwH56",
        "outputId": "f4cb362d-952b-4be5-a583-d2e5cf02ba10"
      },
      "outputs": [
        {
          "data": {
            "text/plain": [
              "'aa'"
            ]
          },
          "execution_count": 101,
          "metadata": {},
          "output_type": "execute_result"
        }
      ],
      "source": [
        "a = 'a'\n",
        "a += 'a'\n",
        "a"
      ]
    },
    {
      "cell_type": "code",
      "execution_count": 102,
      "metadata": {
        "colab": {
          "base_uri": "https://localhost:8080/",
          "height": 34
        },
        "id": "ojtstwhxG9H2",
        "outputId": "5a0ba663-4f88-4457-caa3-bf186505a76f"
      },
      "outputs": [
        {
          "name": "stdout",
          "output_type": "stream",
          "text": [
            "45\n"
          ]
        }
      ],
      "source": [
        "print(age)"
      ]
    },
    {
      "cell_type": "code",
      "execution_count": 105,
      "metadata": {
        "colab": {
          "base_uri": "https://localhost:8080/",
          "height": 34
        },
        "id": "sMeaemnU-R_-",
        "outputId": "03d98aea-7524-4b3f-de43-a43af672c204"
      },
      "outputs": [
        {
          "data": {
            "text/plain": [
              "0"
            ]
          },
          "execution_count": 105,
          "metadata": {},
          "output_type": "execute_result"
        }
      ],
      "source": [
        "age -= 15\n",
        "age"
      ]
    },
    {
      "cell_type": "markdown",
      "metadata": {
        "id": "hCCda7ZV-SAA"
      },
      "source": [
        "### Inputs and outputs\n",
        "\n",
        "These functions allow you to have simple input and output with Python. You can use input() for simple inputting as running this function allows you to type for Python to read. To output, the print() function can be called to print variables and other sorts of data types."
      ]
    },
    {
      "cell_type": "code",
      "execution_count": 107,
      "metadata": {
        "colab": {
          "base_uri": "https://localhost:8080/"
        },
        "id": "DNo4CDpm-SAA",
        "outputId": "941dd4b4-d1dc-4af3-dc9b-40e853ce5bc3"
      },
      "outputs": [
        {
          "name": "stdout",
          "output_type": "stream",
          "text": [
            "Hello hjhjh\n"
          ]
        }
      ],
      "source": [
        "# input\n",
        "s2 = input('What is your name?')\n",
        "print('Hello ' + s2)"
      ]
    },
    {
      "cell_type": "code",
      "execution_count": 108,
      "metadata": {
        "colab": {
          "base_uri": "https://localhost:8080/",
          "height": 54
        },
        "id": "3pWok1Jw1uqe",
        "outputId": "05f2bb2d-e93e-475c-8785-732d67804d94"
      },
      "outputs": [],
      "source": [
        "x = input('Type a number : ')"
      ]
    },
    {
      "cell_type": "code",
      "execution_count": 109,
      "metadata": {},
      "outputs": [
        {
          "name": "stdout",
          "output_type": "stream",
          "text": [
            "50 <class 'str'>\n"
          ]
        }
      ],
      "source": [
        "print(x, type(x))"
      ]
    },
    {
      "cell_type": "code",
      "execution_count": 110,
      "metadata": {
        "colab": {
          "base_uri": "https://localhost:8080/"
        },
        "id": "V6peYHRy2b3O",
        "outputId": "aa86763b-ff49-4a34-f4d9-cac914ba2a08"
      },
      "outputs": [
        {
          "data": {
            "text/plain": [
              "str"
            ]
          },
          "execution_count": 110,
          "metadata": {},
          "output_type": "execute_result"
        }
      ],
      "source": [
        "num1 = 100\n",
        "str1 = str(num1)\n",
        "type(str1)"
      ]
    },
    {
      "cell_type": "markdown",
      "metadata": {
        "id": "KolOQCn5Qln-"
      },
      "source": [
        "Note that when using input, Python will read the input as a string even if you type in a number as input. For example:"
      ]
    },
    {
      "cell_type": "code",
      "execution_count": 111,
      "metadata": {
        "colab": {
          "base_uri": "https://localhost:8080/",
          "height": 34
        },
        "id": "tlBoD7qOQsbt",
        "outputId": "9285abdf-88f5-4ba4-c578-01d16a136dc1"
      },
      "outputs": [],
      "source": [
        "result = input('Type something:')"
      ]
    },
    {
      "cell_type": "code",
      "execution_count": 112,
      "metadata": {
        "colab": {
          "base_uri": "https://localhost:8080/",
          "height": 34
        },
        "id": "FVWuC-HaQ1M0",
        "outputId": "f9114c87-37f1-46f4-ae3b-89b6d76d12d9"
      },
      "outputs": [
        {
          "data": {
            "text/plain": [
              "str"
            ]
          },
          "execution_count": 112,
          "metadata": {},
          "output_type": "execute_result"
        }
      ],
      "source": [
        "type(result) # comments"
      ]
    },
    {
      "cell_type": "code",
      "execution_count": 113,
      "metadata": {
        "colab": {
          "base_uri": "https://localhost:8080/",
          "height": 34
        },
        "id": "oMyQMmI4-SAD",
        "outputId": "23320cce-b817-4190-dd39-f0809be43ca4"
      },
      "outputs": [
        {
          "name": "stdout",
          "output_type": "stream",
          "text": [
            "123\n"
          ]
        }
      ],
      "source": [
        "# output\n",
        "print(result)"
      ]
    },
    {
      "cell_type": "markdown",
      "metadata": {
        "id": "YMgCM_jx-SAG"
      },
      "source": [
        "### Exercise\n",
        "\n",
        "Assign the value of $30\\times23$ to a variable called _result_."
      ]
    },
    {
      "cell_type": "code",
      "execution_count": 115,
      "metadata": {
        "colab": {
          "base_uri": "https://localhost:8080/",
          "height": 34
        },
        "id": "mQqxGC-Z-SAG",
        "outputId": "670a7924-2d49-447b-b5f4-1ba7d68ce821"
      },
      "outputs": [
        {
          "data": {
            "text/plain": [
              "690"
            ]
          },
          "execution_count": 115,
          "metadata": {},
          "output_type": "execute_result"
        }
      ],
      "source": []
    }
  ],
  "metadata": {
    "colab": {
      "collapsed_sections": [
        "pRm3XEVa-R9-",
        "zbA98IYP-R-2",
        "JfNGSnx8-R_X",
        "OX6EVc9q-R_f",
        "SynRrUyK-R_w",
        "syhPwtES-R_7",
        "YMgCM_jx-SAG"
      ],
      "provenance": []
    },
    "kernelspec": {
      "display_name": "base",
      "language": "python",
      "name": "python3"
    },
    "language_info": {
      "codemirror_mode": {
        "name": "ipython",
        "version": 3
      },
      "file_extension": ".py",
      "mimetype": "text/x-python",
      "name": "python",
      "nbconvert_exporter": "python",
      "pygments_lexer": "ipython3",
      "version": "3.9.12"
    }
  },
  "nbformat": 4,
  "nbformat_minor": 0
}
